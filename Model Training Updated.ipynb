{
 "cells": [
  {
   "cell_type": "code",
   "execution_count": 77,
   "metadata": {},
   "outputs": [],
   "source": [
    "import pandas as pd\n",
    "import numpy as np\n",
    "import pylab\n",
    "import matplotlib.pyplot as plt\n",
    "import seaborn as sns\n",
    "from sklearn.preprocessing import StandardScaler\n",
    "from sklearn.preprocessing import PolynomialFeatures\n",
    "from datetime import datetime, date\n",
    "from sklearn.feature_selection import SelectKBest\n",
    "from sklearn.feature_selection import chi2\n",
    "from sklearn.ensemble import ExtraTreesClassifier\n",
    "from sklearn.model_selection import train_test_split\n",
    "from sklearn.linear_model import LogisticRegression\n",
    "from sklearn.tree import DecisionTreeClassifier\n",
    "from sklearn.ensemble import RandomForestClassifier\n",
    "from sklearn.neighbors import KNeighborsClassifier\n",
    "from sklearn.naive_bayes import GaussianNB\n",
    "from sklearn.svm import SVC\n",
    "from sklearn.metrics import f1_score\n",
    "from sklearn.metrics import precision_score\n",
    "from sklearn.metrics import recall_score\n",
    "from sklearn.model_selection import cross_val_score,StratifiedKFold,KFold\n",
    "import warnings\n",
    "import imblearn\n",
    "from imblearn.combine import SMOTETomek\n",
    "from collections import Counter\n",
    "from imblearn.under_sampling import RandomUnderSampler\n",
    "warnings.filterwarnings('ignore')"
   ]
  },
  {
   "cell_type": "code",
   "execution_count": 2,
   "metadata": {},
   "outputs": [],
   "source": [
    "# today = date.today()\n",
    "\n",
    "def age(born):\n",
    "#     born = datetime.strptime(born, \"%Y/%m/%d\").date()\n",
    "    today = date.today()\n",
    "    return today.year - born.year - ((today.month, \n",
    "                                      today.day) < (born.month, \n",
    "                                                    born.day))\n",
    "\n",
    "\n",
    "def dataframe_check_suite(x):\n",
    "    \n",
    "    \n",
    "    print(\"SIZE OF THE DATAFRAME\")\n",
    "    print(x.size)\n",
    "    print(\"SHAPE OF THE DATAFRAME\")\n",
    "    print(x.shape)\n",
    "    \n",
    "    print(\"BELOW ARE THE UNIQUE VALUES IN EVERY COLUMN\")\n",
    "    for col in x:\n",
    "        print(col,end = \" : \")\n",
    "        print(x[col].unique())\n",
    "        print(\"\")\n",
    "    print(\"******************************************************************************\")\n",
    "    print(\"BELOW  SUM OF THE NULL VALUES IN EVERY COLUMN\")\n",
    "    col_null=[]\n",
    "    for i in x.columns:\n",
    "#     print(i)\n",
    "        if x[i].isnull().sum()>0:\n",
    "            print(i,\"\",x[i].isnull().sum(), end=\"  : \")\n",
    "#         print(\":\")\n",
    "            col_null.append(i)\n",
    "    print(col_null)\n",
    "    print(len(col_null))\n",
    "\n",
    "    "
   ]
  },
  {
   "cell_type": "code",
   "execution_count": null,
   "metadata": {},
   "outputs": [],
   "source": []
  },
  {
   "cell_type": "code",
   "execution_count": 3,
   "metadata": {},
   "outputs": [],
   "source": [
    "def yobla(X_train, X_test, y_train, y_test):\n",
    "    \n",
    "    log_reg_params = [{\"C\":0.001}, {\"C\":0.1}, {\"C\":1}, {\"C\":10}]\n",
    "    dec_tree_params = [{\"criterion\": \"gini\"}, {\"criterion\": \"entropy\"}]\n",
    "    rand_for_params = [{\"criterion\": \"gini\"}, {\"criterion\": \"entropy\"}]\n",
    "    kneighbors_params = [{\"n_neighbors\":3}, {\"n_neighbors\":5}]\n",
    "    naive_bayes_params = [{}]\n",
    "    svc_params = [{\"C\":0.1}, {\"C\":1}, {\"C\":10}, {\"C\":100}]\n",
    "\n",
    "    modelclasses = [\n",
    "        [\"log regression\", LogisticRegression, log_reg_params],\n",
    "        [\"decision tree\", DecisionTreeClassifier, dec_tree_params],\n",
    "        [\"random forest\", RandomForestClassifier, rand_for_params],\n",
    "        [\"k neighbors\", KNeighborsClassifier, kneighbors_params],\n",
    "        [\"naive bayes\", GaussianNB, naive_bayes_params],\n",
    "        [\"support vector machines\", SVC, svc_params]\n",
    "    ]\n",
    "\n",
    "\n",
    "    insights = []\n",
    "    for modelname, Model, params_list in modelclasses:\n",
    "        for params in params_list:\n",
    "            model = Model(**params)\n",
    "            model.fit(X_train, y_train)\n",
    "            y_pred =model.predict(X_test)\n",
    "            score = model.score(X_test, y_test)\n",
    "\n",
    "            f_score =f1_score(y_test, y_pred, average=\"macro\")\n",
    "            pre_score= precision_score(y_test, y_pred, average=\"macro\")\n",
    "            rec_score =recall_score(y_test, y_pred, average=\"macro\")\n",
    "            insights.append((modelname, model, params, score,\"F1 Score:->\",f_score,\"PRE Score:->\",pre_score,\"REC Score:->\",rec_score))\n",
    "\n",
    "\n",
    "\n",
    "    for i in insights:\n",
    "        print(i)"
   ]
  },
  {
   "cell_type": "code",
   "execution_count": 4,
   "metadata": {},
   "outputs": [],
   "source": [
    "# df = pd.read_excel(\"Mental Health Survey under Centre for Development for Advanced Computing, Noida (Responses).xlsx\")\n",
    "df = pd.read_csv(\"Mental Health Survey under Centre for Development for Advanced Computing, Noida.csv\")\n",
    "\n",
    "\n"
   ]
  },
  {
   "cell_type": "code",
   "execution_count": 5,
   "metadata": {},
   "outputs": [],
   "source": [
    "\n",
    "df = df.iloc[:,1:]\n",
    "List_change = [\"Energy\",\"Substance Craving \",\n",
    "               \"Sadness\",\"Anger\",\"Exercising\",\n",
    "               \"Irritability\" ]\n",
    "List_change = [x.upper() for x in List_change]\n",
    "list_to_change =list(df.columns)\n",
    "list_to_change = [x.upper() for x in list_to_change]\n",
    "\n",
    "\n",
    "\n",
    "j=0\n",
    "r = 1\n",
    "for i in range(len(list_to_change)):\n",
    "    \n",
    "        r=1\n",
    "        if list_to_change[i].startswith(\"DAY 1\"):\n",
    "            while r<=7:\n",
    "                \n",
    "                k = \" DAY \"+ str(r)\n",
    "                r=int(r)+1\n",
    "                list_to_change[i]=List_change[j]+k\n",
    "                i=i+1\n",
    "\n",
    "            j=j+1\n",
    "# print(list_to_change)       \n",
    "df.columns = list_to_change  \n",
    "\n",
    "\n",
    "list_cj=[]\n",
    "for i in df.columns:\n",
    "#     print(i)\n",
    "    i =i.replace(\",\", \"COMMA\")\n",
    "#     print(i)\n",
    "    url = \"_\".join( i.split() )\n",
    "#     print(url)\n",
    "    list_cj.append(url)\n",
    "df.columns = list_cj\n",
    "df.replace(to_replace =\"Most of the Time/Always\",\n",
    "                 value =\"Most of the Time\",inplace = True)\n",
    "df[\"DATE_OF_BIRTH\"]=pd.to_datetime(df[\"DATE_OF_BIRTH\"], format='%Y/%m/%d')\n",
    "# df.rename(columns = {'AGE' : 'Date of Birth'}, inplace = True)\n",
    "df_q = df.iloc[:,0:27]\n",
    "del df_q[\"OKAY?\"]\n",
    "df_s = df.iloc[:,27:]"
   ]
  },
  {
   "cell_type": "code",
   "execution_count": 6,
   "metadata": {},
   "outputs": [
    {
     "name": "stdout",
     "output_type": "stream",
     "text": [
      "SIZE OF THE DATAFRAME\n",
      "2418\n",
      "SHAPE OF THE DATAFRAME\n",
      "(93, 26)\n",
      "BELOW ARE THE UNIQUE VALUES IN EVERY COLUMN\n",
      "NAME : ['Khushboo Kumari' 'ND' 'Priyanshi Tyagi ' 'Shashwat shah'\n",
      " 'Vallabhi Shah ' 'Aditi' 'LAvanya Bharti' 'Vaibhav Gupta' 'Pooja Sharma '\n",
      " 'Rupal Jain ' 'Anshika Arora' 'Akash Jatwa' 'Rohit Machiwal ' 'Chandni '\n",
      " 'Aiysha' 'Dheeraj Chandra' 'Vaibhav' 'Udit' 'Divya' 'Jyoti '\n",
      " 'Shashwat Singh' 'Aakanksha' 'Himanshu singh ' 'Diksha ' 'Varnika'\n",
      " 'Priya ' 'Vinayak' 'Aditya Kumar ' 'Ephraim Elow Chalai' 'Vrinda '\n",
      " 'Kaushal keshri ' 'Rahul Rathour' 'Abhishek Biswas' 'Surbhi Gaur'\n",
      " 'Kamna Mamgain ' 'Nitish' 'Nalin Gupta' 'Anupam ' 'Ajay kumar'\n",
      " 'Shaifali Bhatt' 'Bhavya kukreja ' 'Lokesh Jain' 'Shubham Chaudhary'\n",
      " 'Mohit Arora' 'Deeksha Aashri' 'Kushagra bhardwaj ' 'Kanika Aggarwal '\n",
      " 'Akhil Tripathi' 'Shrikant' 'Geetika' 'Prashant Kumar ' 'Nikhil'\n",
      " 'Akhil pratap singh' 'Vidushi' 'Prateek' 'Shubham pal' 'Vikas Pal'\n",
      " 'Abhishek Singh' 'Riya chauhan' 'Indresh shukla' 'Sumit Bhati ' 'Sanju'\n",
      " 'Manoj' 'Dhruv Sharma' 'Sudiksha Verma ' 'Abhishek' 'imtisal' 'Stc'\n",
      " 'Shane J Wallace\\t' 'QUENTIN ALSTON' 'ankit shukla' 'Kenneth Prabakaran '\n",
      " 'Kartik' 'Gaurav singh ' 'Ali' 'Viktoria Sulik' 'Taniya ' 'Kajal' 'AKC'\n",
      " 'Bradlee Bachar' 'victor' 'camesha' 'Carla' 'A' 'Ana' 'Leanne' 'Sarah'\n",
      " 'Annemarie' 'Davi' 'Vanessa']\n",
      "\n",
      "DATE_OF_BIRTH : ['1998-01-29T00:00:00.000000000' '1995-10-19T00:00:00.000000000'\n",
      " '1999-04-29T00:00:00.000000000' '1999-05-24T00:00:00.000000000'\n",
      " '1995-12-18T00:00:00.000000000' '1995-11-22T00:00:00.000000000'\n",
      " '1998-12-11T00:00:00.000000000' '1997-01-19T00:00:00.000000000'\n",
      " '1999-08-07T00:00:00.000000000' '1999-01-07T00:00:00.000000000'\n",
      " '2000-01-04T00:00:00.000000000' '1999-06-09T00:00:00.000000000'\n",
      " '1998-05-12T00:00:00.000000000' '1996-07-27T00:00:00.000000000'\n",
      " '2022-03-26T00:00:00.000000000' '1997-10-23T00:00:00.000000000'\n",
      " '1998-05-24T00:00:00.000000000' '1998-06-10T00:00:00.000000000'\n",
      " '1999-08-28T00:00:00.000000000' '1999-02-14T00:00:00.000000000'\n",
      " '1998-08-02T00:00:00.000000000' '1996-06-13T00:00:00.000000000'\n",
      " '1998-03-22T00:00:00.000000000' '1996-11-14T00:00:00.000000000'\n",
      " '1996-12-23T00:00:00.000000000' '1999-04-09T00:00:00.000000000'\n",
      " '1996-01-31T00:00:00.000000000' '2004-03-22T00:00:00.000000000'\n",
      " '1999-12-13T00:00:00.000000000' '2002-10-26T00:00:00.000000000'\n",
      " '1999-06-11T00:00:00.000000000' '1999-09-23T00:00:00.000000000'\n",
      " '1998-08-25T00:00:00.000000000' '1997-05-29T00:00:00.000000000'\n",
      " '1997-06-07T00:00:00.000000000' '1998-03-19T00:00:00.000000000'\n",
      " '1986-09-10T00:00:00.000000000' '1997-09-03T00:00:00.000000000'\n",
      " '1999-07-31T00:00:00.000000000' '1997-01-10T00:00:00.000000000'\n",
      " '1997-02-05T00:00:00.000000000' '1997-06-03T00:00:00.000000000'\n",
      " '2022-03-28T00:00:00.000000000' '1993-08-18T00:00:00.000000000'\n",
      " '1996-09-18T00:00:00.000000000' '1997-09-23T00:00:00.000000000'\n",
      " '1989-01-10T00:00:00.000000000' '1984-08-20T00:00:00.000000000'\n",
      " '1999-12-14T00:00:00.000000000' '1995-12-25T00:00:00.000000000'\n",
      " '2002-02-05T00:00:00.000000000' '1999-09-20T00:00:00.000000000'\n",
      " '1999-04-19T00:00:00.000000000' '2001-11-24T00:00:00.000000000'\n",
      " '1999-10-23T00:00:00.000000000' '2000-10-27T00:00:00.000000000'\n",
      " '1998-05-06T00:00:00.000000000' '1998-01-13T00:00:00.000000000'\n",
      " '1997-07-22T00:00:00.000000000' '1998-05-11T00:00:00.000000000'\n",
      " '1996-01-14T00:00:00.000000000' '1999-04-02T00:00:00.000000000'\n",
      " '1995-12-22T00:00:00.000000000' '1998-06-16T00:00:00.000000000'\n",
      " '1995-04-05T00:00:00.000000000' '2001-03-10T00:00:00.000000000'\n",
      " '2000-09-20T00:00:00.000000000' '1978-02-18T00:00:00.000000000'\n",
      " '1991-07-29T00:00:00.000000000' '1997-12-20T00:00:00.000000000'\n",
      " '1997-02-10T00:00:00.000000000' '1999-02-03T00:00:00.000000000'\n",
      " '2003-08-02T00:00:00.000000000' '2000-09-11T00:00:00.000000000'\n",
      " '1998-09-03T00:00:00.000000000' '2022-04-16T00:00:00.000000000'\n",
      " '2000-02-15T00:00:00.000000000' '1999-12-16T00:00:00.000000000'\n",
      " '1982-09-30T00:00:00.000000000' '1984-02-11T00:00:00.000000000'\n",
      " '1995-12-02T00:00:00.000000000' '1988-04-21T00:00:00.000000000'\n",
      " '1996-04-18T00:00:00.000000000' '1999-09-12T00:00:00.000000000'\n",
      " '2001-02-28T00:00:00.000000000' '1998-11-24T00:00:00.000000000'\n",
      " '1982-07-16T00:00:00.000000000' '1998-07-03T00:00:00.000000000'\n",
      " '1998-09-19T00:00:00.000000000' '1998-06-20T00:00:00.000000000']\n",
      "\n",
      "GENDER : ['Female' 'MALE' 'FEMALE' 'Prefer not to say']\n",
      "\n",
      "HAVE_YOU_BEEN_DIAGNOSED_FOR_ANXIETY/ANXIETY_RELATED_DISORDERS_(_BY_A_PROFESSIONAL_:_THERAPISTCOMMA_DOCTOR_ETC._) : ['No' 'Yes' 'Prefer not to say']\n",
      "\n",
      "I_WAS_AWARE_OF_DRYNESS_OF_MY_MOUTH : ['Quite Often' 'Most of the Time' 'Less than Often' 'Never']\n",
      "\n",
      "FEELING_NERVOUSCOMMA_ANXIOUSCOMMA_OR_ON_EDGE : ['Quite Often' 'Less than Often' 'Never' 'Most of the Time']\n",
      "\n",
      "NOT_BEING_ABLE_TO_STOP_OR_CONTROL_WORRYING : ['Most of the Time' 'Quite Often' 'Less than Often' 'Never']\n",
      "\n",
      "WORRYING_TOO_MUCH_ABOUT_DIFFERENT_THINGS : ['Quite Often' 'Most of the Time' 'Less than Often' 'Never']\n",
      "\n",
      "TROUBLE_RELAXING : ['Quite Often' 'Less than Often' 'Never' 'Most of the Time']\n",
      "\n",
      "BEING_SO_RESTLESS_THAT_IT_IS_HARD_TO_SIT_STILL : ['Less than Often' 'Never' 'Most of the Time' 'Quite Often']\n",
      "\n",
      "BECOMING_EASILY_ANNOYED_OR_IRRITABLE : ['Quite Often' 'Less than Often' 'Most of the Time' 'Never']\n",
      "\n",
      "FEELING_AFRAIDCOMMA_AS_IF_SOMETHING_AWFUL_MIGHT_HAPPEN : ['Quite Often' 'Less than Often' 'Never' 'Most of the Time']\n",
      "\n",
      "TROUBLE_FUNCTIONING_AT_HOMECOMMA_WORKCOMMA_OR_SOCIALLY_DUE_TO_ANXIETY_(RATE_THE_MOST_TROUBLESOME_SYMPTOM) : ['Less than Often' 'Never' 'Quite Often' 'Most of the Time']\n",
      "\n",
      "TROUBLE_REMEMBERING_THINGS : ['Less than Often' 'Never' 'Most of the Time' 'Quite Often']\n",
      "\n",
      "PROBLEMS_WITH_CONCENTRATION_OR_ATTENTION : ['Quite Often' 'Less than Often' 'Never' 'Most of the Time']\n",
      "\n",
      "TROUBLE_FALLING_OR_STAYING_ASLEEP_(RATE_THE_MOST_TROUBLESOME_SYMPTOM) : ['Less than Often' 'Quite Often' 'Never' 'Most of the Time']\n",
      "\n",
      "MUSCLE_TENSION_OR_TIGHTNESS : ['Less than Often' 'Never' 'Most of the Time' 'Quite Often']\n",
      "\n",
      "FELT_TENSE_OR_“HIGH_STRUNG” : ['Quite Often' 'Less than Often' 'Never' 'Most of the Time']\n",
      "\n",
      "FELT_HOPELESS : ['Quite Often' 'Less than Often' 'Never' 'Most of the Time']\n",
      "\n",
      "FELT_LIKE_I_HAD_A_LOT_TO_LOOK_FORWARD_TO_(EG_._TOO_MANY_ACTIVITIES/THINGS_TO_TEND_DOCOMMA_WHICH_YOU_HAVE_PROCRASTINATED) : ['Less than Often' 'Quite Often' 'Never' 'Most of the Time']\n",
      "\n",
      "FELT_LIKE_NOTHING_WAS_VERY_ENJOYABLE : ['Less than Often' 'Never' 'Most of the Time' 'Quite Often']\n",
      "\n",
      "HAD_TROUBLE_SWALLOWING : ['Never' 'Less than Often' 'Quite Often' 'Most of the Time']\n",
      "\n",
      "I_EXPERIENCED_BREATHING_DIFFICULTY_(E.G._EXCESSIVELY_RAPID_BREATHINGCOMMA_BREATHLESSNESS_IN_THE_ABSENCE_OF_PHYSICAL_EXERTION) : ['Never' 'Less than Often' 'Quite Often' 'Most of the Time']\n",
      "\n",
      "I_EXPERIENCED_TREMBLING_(E.G._IN_THE_HANDS) : ['Never' 'Less than Often' 'Quite Often' 'Most of the Time' nan]\n",
      "\n",
      "I_WAS_WORRIED_ABOUT_SITUATIONS_IN_WHICH_I_MIGHT_PANIC_AND_MAKE_A_FOOL_OF_MYSELF : ['Less than Often' 'Quite Often' 'Never' 'Most of the Time' nan]\n",
      "\n",
      "I_FELT_I_WAS_CLOSE_TO_PANIC : ['Less than Often' 'Never' 'Quite Often' 'Most of the Time' nan]\n",
      "\n",
      "******************************************************************************\n",
      "BELOW  SUM OF THE NULL VALUES IN EVERY COLUMN\n",
      "I_EXPERIENCED_TREMBLING_(E.G._IN_THE_HANDS)  1  : I_WAS_WORRIED_ABOUT_SITUATIONS_IN_WHICH_I_MIGHT_PANIC_AND_MAKE_A_FOOL_OF_MYSELF  1  : I_FELT_I_WAS_CLOSE_TO_PANIC  1  : ['I_EXPERIENCED_TREMBLING_(E.G._IN_THE_HANDS)', 'I_WAS_WORRIED_ABOUT_SITUATIONS_IN_WHICH_I_MIGHT_PANIC_AND_MAKE_A_FOOL_OF_MYSELF', 'I_FELT_I_WAS_CLOSE_TO_PANIC']\n",
      "3\n"
     ]
    }
   ],
   "source": [
    "dataframe_check_suite(df_q)"
   ]
  },
  {
   "cell_type": "code",
   "execution_count": 7,
   "metadata": {},
   "outputs": [],
   "source": [
    "df_q.fillna('Never', inplace=True)\n",
    "\n",
    "accepted_strings = [\"Most of the Time\", \"Quite Often\", \"Less than Often\", \"Never\"]\n",
    "h_ls=df_q.columns[df_q.isin(accepted_strings).any()].tolist()\n",
    "n_h_ls=[]\n",
    "for i in df_q.columns:\n",
    "    if i not in h_ls:\n",
    "        n_h_ls.append(i)\n",
    "len(n_h_ls)\n",
    "size_mapping = {\"Most of the Time\":7, \"Quite Often\":3, \"Less than Often\":-1, \"Never\":-5}\n",
    "for i in df_q.columns:\n",
    "    if i in h_ls:\n",
    "        df_q[i]=df_q[i].map(size_mapping)\n"
   ]
  },
  {
   "cell_type": "code",
   "execution_count": 8,
   "metadata": {},
   "outputs": [],
   "source": [
    "\n",
    "size_mapping_s = {\"Most of the Time\":int(7), \"Quite Often\":int(3), \"Sometimes\":int(-1), \"Never\":int(-3),'No workout':int(5) ,\n",
    "                  '10-15':int (-11), '60+ mins':int (-6) ,'30-60 mins':int (-6) ,'10-15 mins':int (-1)}\n",
    "for i in df_s.columns:\n",
    "#     if i in h_ls:\n",
    "    df_s[i]=df_s[i].map(size_mapping_s)\n",
    "\n",
    "# Imputations using median of the values in row  \n",
    "# df_check= df_s.apply(lambda row: row.fillna(row.median()), axis=1)\n",
    "df_s = df_s.T.fillna(df_s.median(axis=1)).T\n",
    "df_s=df_s.astype(int)\n",
    "df_s[['NAME', 'DATE_OF_BIRTH',\n",
    "      'GENDER',\n",
    "      'FEELING_NERVOUSCOMMA_ANXIOUSCOMMA_OR_ON_EDGE']] = df_q[['NAME', 'DATE_OF_BIRTH', \n",
    "                                                                 'GENDER',\n",
    "                                                            'FEELING_NERVOUSCOMMA_ANXIOUSCOMMA_OR_ON_EDGE']].to_numpy()"
   ]
  },
  {
   "cell_type": "code",
   "execution_count": 9,
   "metadata": {},
   "outputs": [],
   "source": [
    "df_cc = pd.merge(df_q, df_s, on=['NAME', 'DATE_OF_BIRTH','GENDER','FEELING_NERVOUSCOMMA_ANXIOUSCOMMA_OR_ON_EDGE'])\n",
    "# df_c.shape\n",
    "df_cc['GENDER']=df_cc['GENDER'].str.upper()\n",
    "one_hot=pd.get_dummies(df_cc[\"GENDER\"])\n",
    "\n",
    "data_cc = df_cc.drop('GENDER',axis = 1)\n",
    "\n",
    "df_cc = data_cc.join(one_hot)\n",
    "\n",
    "# data_df "
   ]
  },
  {
   "cell_type": "code",
   "execution_count": 10,
   "metadata": {},
   "outputs": [],
   "source": [
    "df_cc_gad = df_cc[['NAME', 'DATE_OF_BIRTH', 'FEMALE', 'MALE',\"PREFER NOT TO SAY\",\n",
    "       'HAVE_YOU_BEEN_DIAGNOSED_FOR_ANXIETY/ANXIETY_RELATED_DISORDERS_(_BY_A_PROFESSIONAL_:_THERAPISTCOMMA_DOCTOR_ETC._)',\n",
    "                  'FEELING_NERVOUSCOMMA_ANXIOUSCOMMA_OR_ON_EDGE',\n",
    "       'NOT_BEING_ABLE_TO_STOP_OR_CONTROL_WORRYING',\n",
    "       'WORRYING_TOO_MUCH_ABOUT_DIFFERENT_THINGS', 'TROUBLE_RELAXING',\n",
    "       'BEING_SO_RESTLESS_THAT_IT_IS_HARD_TO_SIT_STILL',\n",
    "       'BECOMING_EASILY_ANNOYED_OR_IRRITABLE',\n",
    "       'FEELING_AFRAIDCOMMA_AS_IF_SOMETHING_AWFUL_MIGHT_HAPPEN']]\n",
    "\n"
   ]
  },
  {
   "cell_type": "code",
   "execution_count": 11,
   "metadata": {},
   "outputs": [],
   "source": [
    "df_q['GENDER']=df_q['GENDER'].str.upper()\n",
    "one_hot=pd.get_dummies(df_q[\"GENDER\"])\n",
    "\n",
    "data_q = df_q.drop('GENDER',axis = 1)\n",
    "\n",
    "df_q = data_q.join(one_hot)"
   ]
  },
  {
   "cell_type": "code",
   "execution_count": 12,
   "metadata": {},
   "outputs": [],
   "source": [
    "df_cc[\"ANXIETY\"] = df_cc[\"FEELING_NERVOUSCOMMA_ANXIOUSCOMMA_OR_ON_EDGE\"]\n",
    "del df_cc[\"FEELING_NERVOUSCOMMA_ANXIOUSCOMMA_OR_ON_EDGE\"]\n",
    "\n",
    "df_s[\"ANXIETY\"] = df_s[\"FEELING_NERVOUSCOMMA_ANXIOUSCOMMA_OR_ON_EDGE\"]\n",
    "del df_s[\"FEELING_NERVOUSCOMMA_ANXIOUSCOMMA_OR_ON_EDGE\"]\n",
    "df_q[\"ANXIETY\"] = df_q[\"FEELING_NERVOUSCOMMA_ANXIOUSCOMMA_OR_ON_EDGE\"]\n",
    "del df_q[\"FEELING_NERVOUSCOMMA_ANXIOUSCOMMA_OR_ON_EDGE\"]\n",
    "\n",
    "df_cc_gad[\"ANXIETY\"] = df_cc_gad[\"FEELING_NERVOUSCOMMA_ANXIOUSCOMMA_OR_ON_EDGE\"]\n",
    "del df_cc_gad[\"FEELING_NERVOUSCOMMA_ANXIOUSCOMMA_OR_ON_EDGE\"]\n",
    "\n",
    "df_cc['AGE'] = df_cc['DATE_OF_BIRTH'].apply(age)\n",
    "del df_cc[\"DATE_OF_BIRTH\"]\n",
    "df_q['AGE'] = df_q['DATE_OF_BIRTH'].apply(age)\n",
    "del df_q[\"DATE_OF_BIRTH\"]\n",
    "df_s['AGE'] = df_s['DATE_OF_BIRTH'].apply(age)\n",
    "del df_s[\"DATE_OF_BIRTH\"]\n",
    "\n",
    "\n",
    "\n",
    "df_cc_gad['AGE'] = df_cc_gad['DATE_OF_BIRTH'].apply(age)\n",
    "del df_cc_gad[\"DATE_OF_BIRTH\"]\n",
    "\n",
    "\n",
    "\n",
    "# del df_cc['HAVE_YOU_BEEN_DIAGNOSED_FOR_ANXIETY/ANXIETY_RELATED_DISORDERS_(_BY_A_PROFESSIONAL_:_THERAPISTCOMMA_DOCTOR_ETC._)']\n",
    "# del df_q['HAVE_YOU_BEEN_DIAGNOSED_FOR_ANXIETY/ANXIETY_RELATED_DISORDERS_(_BY_A_PROFESSIONAL_:_THERAPISTCOMMA_DOCTOR_ETC._)']\n",
    "# dataframe_check_suite(df_cc)"
   ]
  },
  {
   "cell_type": "code",
   "execution_count": 13,
   "metadata": {},
   "outputs": [],
   "source": [
    "size_mapping_s = {\"Yes\":int(10), \"No\":int(-2), \"Prefer not to say\":int(2)}\n",
    "\n",
    "\n",
    "df_cc['HAVE_YOU_BEEN_DIAGNOSED_FOR_ANXIETY/ANXIETY_RELATED_DISORDERS_(_BY_A_PROFESSIONAL_:_THERAPISTCOMMA_DOCTOR_ETC._)']=df_cc['HAVE_YOU_BEEN_DIAGNOSED_FOR_ANXIETY/ANXIETY_RELATED_DISORDERS_(_BY_A_PROFESSIONAL_:_THERAPISTCOMMA_DOCTOR_ETC._)'].map(size_mapping_s)\n",
    "\n",
    "\n",
    "\n",
    "df_q['HAVE_YOU_BEEN_DIAGNOSED_FOR_ANXIETY/ANXIETY_RELATED_DISORDERS_(_BY_A_PROFESSIONAL_:_THERAPISTCOMMA_DOCTOR_ETC._)']=df_q['HAVE_YOU_BEEN_DIAGNOSED_FOR_ANXIETY/ANXIETY_RELATED_DISORDERS_(_BY_A_PROFESSIONAL_:_THERAPISTCOMMA_DOCTOR_ETC._)'].map(size_mapping_s)\n",
    "\n",
    "df_cc_gad['HAVE_YOU_BEEN_DIAGNOSED_FOR_ANXIETY/ANXIETY_RELATED_DISORDERS_(_BY_A_PROFESSIONAL_:_THERAPISTCOMMA_DOCTOR_ETC._)']=df_cc_gad['HAVE_YOU_BEEN_DIAGNOSED_FOR_ANXIETY/ANXIETY_RELATED_DISORDERS_(_BY_A_PROFESSIONAL_:_THERAPISTCOMMA_DOCTOR_ETC._)'].map(size_mapping_s)\n",
    "\n",
    "\n"
   ]
  },
  {
   "cell_type": "code",
   "execution_count": 14,
   "metadata": {},
   "outputs": [],
   "source": [
    "df_s['GENDER']=df_s['GENDER'].str.upper()\n",
    "one_hot=pd.get_dummies(df_s[\"GENDER\"])\n",
    "\n",
    "data_q = df_s.drop('GENDER',axis = 1)\n",
    "\n",
    "df_s = data_q.join(one_hot)"
   ]
  },
  {
   "cell_type": "code",
   "execution_count": 15,
   "metadata": {},
   "outputs": [],
   "source": [
    "X = df_cc.drop(['ANXIETY','NAME'],axis =1)  #independent columns\n",
    "y = df_cc[['ANXIETY']]    #target column i.e price range\n",
    "\n",
    "X_q = df_q.drop(['ANXIETY','NAME'],axis =1)  #independent columns\n",
    "y_q = df_q[['ANXIETY']]    #target column i.e price range\n",
    "\n",
    "X_s = df_s.drop(['ANXIETY','NAME'],axis =1)  #independent columns\n",
    "y_s = df_s[['ANXIETY']]    #target column i.e price range\n",
    "\n",
    "X_s = df_s.drop(['ANXIETY','NAME'],axis =1)  #independent columns\n",
    "y_s = df_s[['ANXIETY']]    #target column i.e price range"
   ]
  },
  {
   "cell_type": "code",
   "execution_count": 16,
   "metadata": {},
   "outputs": [],
   "source": [
    "X_cc_gad = df_cc_gad.drop(['ANXIETY','NAME'],axis =1)  #independent columns\n",
    "y_cc_gad = df_cc_gad[['ANXIETY']]    #target column i.e price range"
   ]
  },
  {
   "cell_type": "code",
   "execution_count": 18,
   "metadata": {},
   "outputs": [
    {
     "name": "stdout",
     "output_type": "stream",
     "text": [
      "('log regression', LogisticRegression(C=0.001), {'C': 0.001}, 0.6842105263157895, 'F1 Score:->', 0.3827375762859634, 'PRE Score:->', 0.3431372549019608, 'REC Score:->', 0.4330357142857143)\n",
      "('log regression', LogisticRegression(C=0.1), {'C': 0.1}, 0.5789473684210527, 'F1 Score:->', 0.5077188940092165, 'PRE Score:->', 0.515625, 'REC Score:->', 0.5044642857142857)\n",
      "('log regression', LogisticRegression(C=1), {'C': 1}, 0.5526315789473685, 'F1 Score:->', 0.4817610396030863, 'PRE Score:->', 0.48333333333333334, 'REC Score:->', 0.48660714285714285)\n",
      "('log regression', LogisticRegression(C=10), {'C': 10}, 0.6052631578947368, 'F1 Score:->', 0.5432676518883415, 'PRE Score:->', 0.536904761904762, 'REC Score:->', 0.5669642857142857)\n",
      "('decision tree', DecisionTreeClassifier(), {'criterion': 'gini'}, 0.7105263157894737, 'F1 Score:->', 0.6932471264367815, 'PRE Score:->', 0.7589743589743589, 'REC Score:->', 0.6830357142857143)\n",
      "('decision tree', DecisionTreeClassifier(criterion='entropy'), {'criterion': 'entropy'}, 0.39473684210526316, 'F1 Score:->', 0.2867816091954023, 'PRE Score:->', 0.28205128205128205, 'REC Score:->', 0.29910714285714285)\n",
      "('random forest', RandomForestClassifier(), {'criterion': 'gini'}, 0.6842105263157895, 'F1 Score:->', 0.5533523086654016, 'PRE Score:->', 0.7250000000000001, 'REC Score:->', 0.5267857142857143)\n",
      "('random forest', RandomForestClassifier(criterion='entropy'), {'criterion': 'entropy'}, 0.7105263157894737, 'F1 Score:->', 0.569047619047619, 'PRE Score:->', 0.7440476190476191, 'REC Score:->', 0.5446428571428572)\n",
      "('k neighbors', KNeighborsClassifier(n_neighbors=3), {'n_neighbors': 3}, 0.5, 'F1 Score:->', 0.4040032679738562, 'PRE Score:->', 0.44375, 'REC Score:->', 0.4129464285714286)\n",
      "('k neighbors', KNeighborsClassifier(), {'n_neighbors': 5}, 0.5789473684210527, 'F1 Score:->', 0.47500000000000003, 'PRE Score:->', 0.59375, 'REC Score:->', 0.46651785714285715)\n",
      "('naive bayes', GaussianNB(), {}, 0.42105263157894735, 'F1 Score:->', 0.37013403263403266, 'PRE Score:->', 0.4061688311688312, 'REC Score:->', 0.4017857142857143)\n",
      "('support vector machines', SVC(C=0.1), {'C': 0.1}, 0.42105263157894735, 'F1 Score:->', 0.14814814814814814, 'PRE Score:->', 0.10526315789473684, 'REC Score:->', 0.25)\n",
      "('support vector machines', SVC(C=1), {'C': 1}, 0.7105263157894737, 'F1 Score:->', 0.3988666085440279, 'PRE Score:->', 0.36884057971014494, 'REC Score:->', 0.453125)\n",
      "('support vector machines', SVC(C=10), {'C': 10}, 0.5526315789473685, 'F1 Score:->', 0.3387096774193548, 'PRE Score:->', 0.3284313725490196, 'REC Score:->', 0.3526785714285714)\n",
      "('support vector machines', SVC(C=100), {'C': 100}, 0.5526315789473685, 'F1 Score:->', 0.3387096774193548, 'PRE Score:->', 0.3284313725490196, 'REC Score:->', 0.3526785714285714)\n"
     ]
    }
   ],
   "source": [
    "yobla(X_train, X_test, y_train, y_test)"
   ]
  },
  {
   "cell_type": "code",
   "execution_count": 55,
   "metadata": {},
   "outputs": [
    {
     "name": "stdout",
     "output_type": "stream",
     "text": [
      "('log regression', LogisticRegression(C=0.001), {'C': 0.001}, 0.75, 'F1 Score:->', 0.4222222222222223, 'PRE Score:->', 0.37857142857142856, 'REC Score:->', 0.4772727272727273)\n",
      "('log regression', LogisticRegression(C=0.1), {'C': 0.1}, 0.5, 'F1 Score:->', 0.36507936507936506, 'PRE Score:->', 0.3772893772893773, 'REC Score:->', 0.38446969696969696)\n",
      "('log regression', LogisticRegression(C=1), {'C': 1}, 0.5416666666666666, 'F1 Score:->', 0.49722222222222223, 'PRE Score:->', 0.511904761904762, 'REC Score:->', 0.509469696969697)\n",
      "('log regression', LogisticRegression(C=10), {'C': 10}, 0.5, 'F1 Score:->', 0.4640756302521009, 'PRE Score:->', 0.47916666666666663, 'REC Score:->', 0.48674242424242425)\n",
      "('decision tree', DecisionTreeClassifier(), {'criterion': 'gini'}, 0.25, 'F1 Score:->', 0.14285714285714285, 'PRE Score:->', 0.11538461538461539, 'REC Score:->', 0.1875)\n",
      "('decision tree', DecisionTreeClassifier(criterion='entropy'), {'criterion': 'entropy'}, 0.2916666666666667, 'F1 Score:->', 0.18333333333333332, 'PRE Score:->', 0.19047619047619047, 'REC Score:->', 0.19318181818181818)\n",
      "('random forest', RandomForestClassifier(), {'criterion': 'gini'}, 0.6666666666666666, 'F1 Score:->', 0.3795454545454546, 'PRE Score:->', 0.3503787878787879, 'REC Score:->', 0.4232954545454546)\n",
      "('random forest', RandomForestClassifier(criterion='entropy'), {'criterion': 'entropy'}, 0.6666666666666666, 'F1 Score:->', 0.37229437229437234, 'PRE Score:->', 0.34285714285714286, 'REC Score:->', 0.4318181818181818)\n",
      "('k neighbors', KNeighborsClassifier(n_neighbors=3), {'n_neighbors': 3}, 0.4166666666666667, 'F1 Score:->', 0.26988636363636365, 'PRE Score:->', 0.3392857142857143, 'REC Score:->', 0.26988636363636365)\n",
      "('k neighbors', KNeighborsClassifier(), {'n_neighbors': 5}, 0.5, 'F1 Score:->', 0.2928921568627451, 'PRE Score:->', 0.31770833333333337, 'REC Score:->', 0.33238636363636365)\n",
      "('naive bayes', GaussianNB(), {}, 0.4166666666666667, 'F1 Score:->', 0.4071428571428572, 'PRE Score:->', 0.444047619047619, 'REC Score:->', 0.5179924242424243)\n",
      "('support vector machines', SVC(C=0.1), {'C': 0.1}, 0.7083333333333334, 'F1 Score:->', 0.39502164502164505, 'PRE Score:->', 0.35839160839160844, 'REC Score:->', 0.4545454545454546)\n",
      "('support vector machines', SVC(C=1), {'C': 1}, 0.7083333333333334, 'F1 Score:->', 0.39502164502164505, 'PRE Score:->', 0.35839160839160844, 'REC Score:->', 0.4545454545454546)\n",
      "('support vector machines', SVC(C=10), {'C': 10}, 0.5, 'F1 Score:->', 0.31666666666666665, 'PRE Score:->', 0.3392857142857143, 'REC Score:->', 0.32386363636363635)\n",
      "('support vector machines', SVC(C=100), {'C': 100}, 0.5, 'F1 Score:->', 0.31666666666666665, 'PRE Score:->', 0.3392857142857143, 'REC Score:->', 0.32386363636363635)\n"
     ]
    }
   ],
   "source": [
    "X_train, X_test, y_train, y_test = train_test_split(X, y, test_size=0.25, random_state=42)\n",
    "yobla(X_train, X_test, y_train, y_test)\n"
   ]
  },
  {
   "cell_type": "code",
   "execution_count": 25,
   "metadata": {},
   "outputs": [
    {
     "data": {
      "text/plain": [
       "(93, 68)"
      ]
     },
     "execution_count": 25,
     "metadata": {},
     "output_type": "execute_result"
    }
   ],
   "source": [
    "X.shape"
   ]
  },
  {
   "cell_type": "code",
   "execution_count": 26,
   "metadata": {},
   "outputs": [
    {
     "data": {
      "text/plain": [
       "(93, 1)"
      ]
     },
     "execution_count": 26,
     "metadata": {},
     "output_type": "execute_result"
    }
   ],
   "source": [
    "y.shape"
   ]
  },
  {
   "cell_type": "code",
   "execution_count": 46,
   "metadata": {},
   "outputs": [],
   "source": []
  },
  {
   "cell_type": "code",
   "execution_count": 31,
   "metadata": {},
   "outputs": [],
   "source": [
    "smt = SMOTETomek(random_state=42)\n",
    "X_smote, y_smote =smt.fit_resample(X, y)"
   ]
  },
  {
   "cell_type": "code",
   "execution_count": 47,
   "metadata": {},
   "outputs": [
    {
     "name": "stdout",
     "output_type": "stream",
     "text": [
      "('log regression', LogisticRegression(C=0.001), {'C': 0.001}, 0.6666666666666666, 'F1 Score:->', 0.6518775987525988, 'PRE Score:->', 0.6603203083466241, 'REC Score:->', 0.6588522588522588)\n",
      "('log regression', LogisticRegression(C=0.1), {'C': 0.1}, 0.8, 'F1 Score:->', 0.773117749123941, 'PRE Score:->', 0.8315934065934066, 'REC Score:->', 0.782051282051282)\n",
      "('log regression', LogisticRegression(C=1), {'C': 1}, 0.8, 'F1 Score:->', 0.773117749123941, 'PRE Score:->', 0.8315934065934066, 'REC Score:->', 0.782051282051282)\n",
      "('log regression', LogisticRegression(C=10), {'C': 10}, 0.75, 'F1 Score:->', 0.7182354768561665, 'PRE Score:->', 0.7934894053315106, 'REC Score:->', 0.7322649572649573)\n",
      "('decision tree', DecisionTreeClassifier(), {'criterion': 'gini'}, 0.6333333333333333, 'F1 Score:->', 0.6323887395459976, 'PRE Score:->', 0.6460813492063492, 'REC Score:->', 0.6363858363858363)\n",
      "('decision tree', DecisionTreeClassifier(criterion='entropy'), {'criterion': 'entropy'}, 0.6666666666666666, 'F1 Score:->', 0.6602830720477779, 'PRE Score:->', 0.6659075573549258, 'REC Score:->', 0.6681318681318681)\n",
      "('random forest', RandomForestClassifier(), {'criterion': 'gini'}, 0.8166666666666667, 'F1 Score:->', 0.8138975966562174, 'PRE Score:->', 0.8394188596491228, 'REC Score:->', 0.8226495726495726)\n",
      "('random forest', RandomForestClassifier(criterion='entropy'), {'criterion': 'entropy'}, 0.8, 'F1 Score:->', 0.7937479187479187, 'PRE Score:->', 0.8021592442645074, 'REC Score:->', 0.8008547008547009)\n",
      "('k neighbors', KNeighborsClassifier(n_neighbors=3), {'n_neighbors': 3}, 0.6166666666666667, 'F1 Score:->', 0.507964623096202, 'PRE Score:->', 0.79, 'REC Score:->', 0.5858974358974358)\n",
      "('k neighbors', KNeighborsClassifier(), {'n_neighbors': 5}, 0.55, 'F1 Score:->', 0.4715145965145965, 'PRE Score:->', 0.6459790209790209, 'REC Score:->', 0.5291514041514042)\n",
      "('naive bayes', GaussianNB(), {}, 0.6666666666666666, 'F1 Score:->', 0.6635746606334842, 'PRE Score:->', 0.7206959706959707, 'REC Score:->', 0.6538766788766789)\n",
      "('support vector machines', SVC(C=0.1), {'C': 0.1}, 0.2833333333333333, 'F1 Score:->', 0.21455223880597016, 'PRE Score:->', 0.2638888888888889, 'REC Score:->', 0.3200549450549451)\n",
      "('support vector machines', SVC(C=1), {'C': 1}, 0.7833333333333333, 'F1 Score:->', 0.7798864738202974, 'PRE Score:->', 0.7932449494949495, 'REC Score:->', 0.7855616605616605)\n",
      "('support vector machines', SVC(C=10), {'C': 10}, 0.7833333333333333, 'F1 Score:->', 0.7582192157509762, 'PRE Score:->', 0.7895676691729323, 'REC Score:->', 0.7681623931623931)\n",
      "('support vector machines', SVC(C=100), {'C': 100}, 0.7833333333333333, 'F1 Score:->', 0.7582192157509762, 'PRE Score:->', 0.7895676691729323, 'REC Score:->', 0.7681623931623931)\n"
     ]
    }
   ],
   "source": [
    "X_train, X_test, y_train, y_test = train_test_split(X_smote, y_smote, test_size=0.4, random_state=42)\n",
    "yobla(X_train, X_test, y_train, y_test)"
   ]
  },
  {
   "cell_type": "code",
   "execution_count": 48,
   "metadata": {},
   "outputs": [
    {
     "name": "stdout",
     "output_type": "stream",
     "text": [
      "('log regression', LogisticRegression(C=0.001), {'C': 0.001}, 0.7111111111111111, 'F1 Score:->', 0.706159420289855, 'PRE Score:->', 0.72991452991453, 'REC Score:->', 0.7382617382617382)\n",
      "('log regression', LogisticRegression(C=0.1), {'C': 0.1}, 0.8666666666666667, 'F1 Score:->', 0.8606125356125356, 'PRE Score:->', 0.8927489177489178, 'REC Score:->', 0.8571428571428572)\n",
      "('log regression', LogisticRegression(C=1), {'C': 1}, 0.8222222222222222, 'F1 Score:->', 0.8113701113701113, 'PRE Score:->', 0.8217261904761906, 'REC Score:->', 0.8392857142857143)\n",
      "('log regression', LogisticRegression(C=10), {'C': 10}, 0.8, 'F1 Score:->', 0.7865384615384614, 'PRE Score:->', 0.8017857142857142, 'REC Score:->', 0.8214285714285714)\n",
      "('decision tree', DecisionTreeClassifier(), {'criterion': 'gini'}, 0.5777777777777777, 'F1 Score:->', 0.5789455110107284, 'PRE Score:->', 0.6339190221543163, 'REC Score:->', 0.6035214785214785)\n",
      "('decision tree', DecisionTreeClassifier(criterion='entropy'), {'criterion': 'entropy'}, 0.6222222222222222, 'F1 Score:->', 0.5216137566137566, 'PRE Score:->', 0.5006410256410256, 'REC Score:->', 0.5492007992007992)\n",
      "('random forest', RandomForestClassifier(), {'criterion': 'gini'}, 0.8444444444444444, 'F1 Score:->', 0.8342086834733894, 'PRE Score:->', 0.8392857142857143, 'REC Score:->', 0.8446553446553446)\n",
      "('random forest', RandomForestClassifier(criterion='entropy'), {'criterion': 'entropy'}, 0.8222222222222222, 'F1 Score:->', 0.815195374800638, 'PRE Score:->', 0.8422619047619048, 'REC Score:->', 0.8543956043956044)\n",
      "('k neighbors', KNeighborsClassifier(n_neighbors=3), {'n_neighbors': 3}, 0.6222222222222222, 'F1 Score:->', 0.5424558080808082, 'PRE Score:->', 0.7934523809523809, 'REC Score:->', 0.6071428571428571)\n",
      "('k neighbors', KNeighborsClassifier(), {'n_neighbors': 5}, 0.6444444444444445, 'F1 Score:->', 0.5861221681655118, 'PRE Score:->', 0.7518207282913165, 'REC Score:->', 0.6201298701298701)\n",
      "('naive bayes', GaussianNB(), {}, 0.7333333333333333, 'F1 Score:->', 0.7291666666666665, 'PRE Score:->', 0.8006493506493506, 'REC Score:->', 0.705044955044955)\n",
      "('support vector machines', SVC(C=0.1), {'C': 0.1}, 0.24444444444444444, 'F1 Score:->', 0.20625, 'PRE Score:->', 0.2926829268292683, 'REC Score:->', 0.34090909090909094)\n",
      "('support vector machines', SVC(C=1), {'C': 1}, 0.8, 'F1 Score:->', 0.7963768115942029, 'PRE Score:->', 0.8269230769230769, 'REC Score:->', 0.8302947052947053)\n",
      "('support vector machines', SVC(C=10), {'C': 10}, 0.8888888888888888, 'F1 Score:->', 0.8905239687848383, 'PRE Score:->', 0.9020833333333333, 'REC Score:->', 0.9107142857142857)\n",
      "('support vector machines', SVC(C=100), {'C': 100}, 0.8888888888888888, 'F1 Score:->', 0.8905239687848383, 'PRE Score:->', 0.9020833333333333, 'REC Score:->', 0.9107142857142857)\n"
     ]
    }
   ],
   "source": [
    "X_train, X_test, y_train, y_test = train_test_split(X_smote, y_smote, test_size=0.3, random_state=42)\n",
    "yobla(X_train, X_test, y_train, y_test)"
   ]
  },
  {
   "cell_type": "code",
   "execution_count": 52,
   "metadata": {},
   "outputs": [
    {
     "name": "stdout",
     "output_type": "stream",
     "text": [
      "('log regression', LogisticRegression(C=0.001), {'C': 0.001}, 0.7368421052631579, 'F1 Score:->', 0.7332915622389305, 'PRE Score:->', 0.7625811688311689, 'REC Score:->', 0.7506493506493507)\n",
      "('log regression', LogisticRegression(C=0.1), {'C': 0.1}, 0.868421052631579, 'F1 Score:->', 0.8482213438735178, 'PRE Score:->', 0.8875, 'REC Score:->', 0.8428571428571429)\n",
      "('log regression', LogisticRegression(C=1), {'C': 1}, 0.868421052631579, 'F1 Score:->', 0.853790945896209, 'PRE Score:->', 0.8611111111111112, 'REC Score:->', 0.8535714285714285)\n",
      "('log regression', LogisticRegression(C=10), {'C': 10}, 0.8421052631578947, 'F1 Score:->', 0.8288690476190476, 'PRE Score:->', 0.8511904761904762, 'REC Score:->', 0.8392857142857143)\n",
      "('decision tree', DecisionTreeClassifier(), {'criterion': 'gini'}, 0.631578947368421, 'F1 Score:->', 0.6229102167182663, 'PRE Score:->', 0.6333333333333333, 'REC Score:->', 0.6246753246753247)\n",
      "('decision tree', DecisionTreeClassifier(criterion='entropy'), {'criterion': 'entropy'}, 0.631578947368421, 'F1 Score:->', 0.5927109974424551, 'PRE Score:->', 0.6089285714285714, 'REC Score:->', 0.600974025974026)\n",
      "('random forest', RandomForestClassifier(), {'criterion': 'gini'}, 0.9210526315789473, 'F1 Score:->', 0.9171626984126984, 'PRE Score:->', 0.9217171717171717, 'REC Score:->', 0.9272727272727272)\n",
      "('random forest', RandomForestClassifier(criterion='entropy'), {'criterion': 'entropy'}, 0.8421052631578947, 'F1 Score:->', 0.8365814201054476, 'PRE Score:->', 0.8536324786324786, 'REC Score:->', 0.8308441558441559)\n",
      "('k neighbors', KNeighborsClassifier(n_neighbors=3), {'n_neighbors': 3}, 0.6578947368421053, 'F1 Score:->', 0.576058201058201, 'PRE Score:->', 0.8088235294117647, 'REC Score:->', 0.6214285714285714)\n",
      "('k neighbors', KNeighborsClassifier(), {'n_neighbors': 5}, 0.6842105263157895, 'F1 Score:->', 0.629751790771281, 'PRE Score:->', 0.7758547008547009, 'REC Score:->', 0.6464285714285715)\n",
      "('naive bayes', GaussianNB(), {}, 0.8421052631578947, 'F1 Score:->', 0.8319444444444445, 'PRE Score:->', 0.8354166666666667, 'REC Score:->', 0.8392857142857143)\n",
      "('support vector machines', SVC(C=0.1), {'C': 0.1}, 0.2894736842105263, 'F1 Score:->', 0.22083333333333333, 'PRE Score:->', 0.25303030303030305, 'REC Score:->', 0.35)\n",
      "('support vector machines', SVC(C=1), {'C': 1}, 0.8421052631578947, 'F1 Score:->', 0.8384220354808591, 'PRE Score:->', 0.84375, 'REC Score:->', 0.8522727272727273)\n",
      "('support vector machines', SVC(C=10), {'C': 10}, 0.9736842105263158, 'F1 Score:->', 0.974937343358396, 'PRE Score:->', 0.9772727272727273, 'REC Score:->', 0.975)\n",
      "('support vector machines', SVC(C=100), {'C': 100}, 0.9736842105263158, 'F1 Score:->', 0.974937343358396, 'PRE Score:->', 0.9772727272727273, 'REC Score:->', 0.975)\n"
     ]
    }
   ],
   "source": [
    "X_train, X_test, y_train, y_test = train_test_split(X_smote, y_smote, test_size=0.25, random_state=42)\n",
    "yobla(X_train, X_test, y_train, y_test)"
   ]
  },
  {
   "cell_type": "code",
   "execution_count": 44,
   "metadata": {},
   "outputs": [
    {
     "data": {
      "text/plain": [
       "array([ 3, -1, -5,  7], dtype=int64)"
      ]
     },
     "execution_count": 44,
     "metadata": {},
     "output_type": "execute_result"
    }
   ],
   "source": [
    "df_cc['ANXIETY'].unique()"
   ]
  },
  {
   "cell_type": "code",
   "execution_count": 36,
   "metadata": {},
   "outputs": [
    {
     "name": "stdout",
     "output_type": "stream",
     "text": [
      "Counter({'ANXIETY': 1})\n"
     ]
    }
   ],
   "source": [
    "\n",
    "print(Counter(y))"
   ]
  },
  {
   "cell_type": "code",
   "execution_count": 57,
   "metadata": {},
   "outputs": [
    {
     "name": "stdout",
     "output_type": "stream",
     "text": [
      "MODEL NAME is  log regression  MODEL PARAMETER IS  {'C': 0.001}\n",
      "Cross Validation Scores are [0.5        0.6        0.7        0.77777778 0.44444444 0.44444444\n",
      " 0.55555556 0.77777778 0.44444444 0.77777778]\n",
      "Average Cross Validation score :0.6022222222222223\n",
      "MODEL NAME is  log regression  MODEL PARAMETER IS  {'C': 0.01}\n",
      "Cross Validation Scores are [0.6        0.6        0.7        0.55555556 0.55555556 0.55555556\n",
      " 0.55555556 0.77777778 0.55555556 0.55555556]\n",
      "Average Cross Validation score :0.6011111111111112\n",
      "MODEL NAME is  log regression  MODEL PARAMETER IS  {'C': 1}\n",
      "Cross Validation Scores are [0.6        0.6        0.6        0.55555556 0.66666667 0.44444444\n",
      " 0.55555556 0.44444444 0.55555556 0.44444444]\n",
      "Average Cross Validation score :0.5466666666666666\n",
      "MODEL NAME is  log regression  MODEL PARAMETER IS  {'C': 10}\n",
      "Cross Validation Scores are [0.6        0.5        0.6        0.44444444 0.55555556 0.33333333\n",
      " 0.55555556 0.55555556 0.55555556 0.44444444]\n",
      "Average Cross Validation score :0.5144444444444444\n",
      "MODEL NAME is  random forest  MODEL PARAMETER IS  {'criterion': 'gini'}\n",
      "Cross Validation Scores are [0.6        0.6        0.6        1.         0.55555556 0.44444444\n",
      " 0.66666667 0.77777778 0.66666667 0.66666667]\n",
      "Average Cross Validation score :0.6577777777777778\n",
      "MODEL NAME is  random forest  MODEL PARAMETER IS  {'criterion': 'entropy'}\n",
      "Cross Validation Scores are [0.6        0.5        0.8        0.77777778 0.55555556 0.55555556\n",
      " 0.44444444 0.88888889 0.55555556 0.55555556]\n",
      "Average Cross Validation score :0.6233333333333333\n",
      "MODEL NAME is  decision tree  MODEL PARAMETER IS  {'criterion': 'gini'}\n",
      "Cross Validation Scores are [0.4        0.4        0.3        0.33333333 0.55555556 0.33333333\n",
      " 0.44444444 0.55555556 0.22222222 0.44444444]\n",
      "Average Cross Validation score :0.3988888888888889\n",
      "MODEL NAME is  decision tree  MODEL PARAMETER IS  {'criterion': 'entropy'}\n",
      "Cross Validation Scores are [0.5        0.3        0.3        0.22222222 0.44444444 0.44444444\n",
      " 0.33333333 0.33333333 0.44444444 0.22222222]\n",
      "Average Cross Validation score :0.35444444444444445\n",
      "MODEL NAME is  support vector machines  MODEL PARAMETER IS  {'C': 0.1}\n",
      "Cross Validation Scores are [0.5        0.1        0.3        0.44444444 0.22222222 0.44444444\n",
      " 0.11111111 0.11111111 0.11111111 0.33333333]\n",
      "Average Cross Validation score :0.2677777777777778\n",
      "MODEL NAME is  support vector machines  MODEL PARAMETER IS  {'C': 1}\n",
      "Cross Validation Scores are [0.4        0.5        0.7        0.88888889 0.44444444 0.44444444\n",
      " 0.55555556 0.77777778 0.44444444 0.77777778]\n",
      "Average Cross Validation score :0.5933333333333334\n",
      "MODEL NAME is  support vector machines  MODEL PARAMETER IS  {'C': 10}\n",
      "Cross Validation Scores are [0.5        0.6        0.6        0.44444444 0.66666667 0.55555556\n",
      " 0.66666667 0.44444444 0.66666667 0.55555556]\n",
      "Average Cross Validation score :0.5700000000000001\n",
      "MODEL NAME is  support vector machines  MODEL PARAMETER IS  {'C': 100}\n",
      "Cross Validation Scores are [0.5        0.6        0.6        0.44444444 0.66666667 0.55555556\n",
      " 0.66666667 0.44444444 0.66666667 0.55555556]\n",
      "Average Cross Validation score :0.5700000000000001\n"
     ]
    }
   ],
   "source": [
    "\n",
    "log_reg_params = [{\"C\":0.001}, {\"C\":0.01}, {\"C\":1}, {\"C\":10}]\n",
    "dec_tree_params = [{\"criterion\": \"gini\"}, {\"criterion\": \"entropy\"}]\n",
    "rand_for_params = [{\"criterion\": \"gini\"}, {\"criterion\": \"entropy\"}]\n",
    "kneighbors_params = [{\"n_neighbors\":3}, {\"n_neighbors\":5}]\n",
    "svc_params = [{\"C\":0.1}, {\"C\":1}, {\"C\":10}, {\"C\":100}]\n",
    "\n",
    "modelclasses = [\n",
    "    [\"log regression\", LogisticRegression, log_reg_params],   \n",
    "    [\"random forest\", RandomForestClassifier, rand_for_params],\n",
    "    [\"decision tree\", DecisionTreeClassifier, dec_tree_params],\n",
    "    [\"support vector machines\", SVC, svc_params]\n",
    "]\n",
    "insights = []\n",
    "for modelname, Model, params_list in modelclasses:\n",
    "    for params in params_list:\n",
    "        kf=KFold(n_splits=10)\n",
    "\n",
    "        model = Model(**params)\n",
    "\n",
    "        score=cross_val_score(model,X,y,cv=kf)\n",
    "        print(\"MODEL NAME is \",modelname,\" MODEL PARAMETER IS \", params)\n",
    "        print(\"Cross Validation Scores are {}\".format(score))\n",
    "        print(\"Average Cross Validation score :{}\".format(score.mean()))\n",
    "\n",
    "\n"
   ]
  },
  {
   "cell_type": "code",
   "execution_count": 58,
   "metadata": {},
   "outputs": [
    {
     "name": "stdout",
     "output_type": "stream",
     "text": [
      "MODEL NAME is  log regression  MODEL PARAMETER IS  {'C': 0.001}\n",
      "Cross Validation Scores are [0.53333333 0.73333333 0.53333333 0.46666667 0.6        0.6\n",
      " 0.86666667 0.8        0.6        0.73333333]\n",
      "Average Cross Validation score :0.6466666666666666\n",
      "MODEL NAME is  log regression  MODEL PARAMETER IS  {'C': 0.01}\n",
      "Cross Validation Scores are [0.6        0.8        0.66666667 0.66666667 0.53333333 0.66666667\n",
      " 0.93333333 1.         1.         1.        ]\n",
      "Average Cross Validation score :0.7866666666666667\n",
      "MODEL NAME is  log regression  MODEL PARAMETER IS  {'C': 1}\n",
      "Cross Validation Scores are [0.73333333 0.73333333 0.6        0.8        0.66666667 0.53333333\n",
      " 0.93333333 1.         1.         1.        ]\n",
      "Average Cross Validation score :0.8\n",
      "MODEL NAME is  log regression  MODEL PARAMETER IS  {'C': 10}\n",
      "Cross Validation Scores are [0.73333333 0.73333333 0.6        0.73333333 0.66666667 0.53333333\n",
      " 0.93333333 1.         1.         1.        ]\n",
      "Average Cross Validation score :0.7933333333333333\n",
      "MODEL NAME is  random forest  MODEL PARAMETER IS  {'criterion': 'gini'}\n",
      "Cross Validation Scores are [0.66666667 0.73333333 0.8        0.6        0.53333333 0.66666667\n",
      " 1.         0.86666667 1.         1.        ]\n",
      "Average Cross Validation score :0.7866666666666666\n",
      "MODEL NAME is  random forest  MODEL PARAMETER IS  {'criterion': 'entropy'}\n",
      "Cross Validation Scores are [0.73333333 0.66666667 0.93333333 0.66666667 0.6        0.6\n",
      " 1.         0.93333333 1.         1.        ]\n",
      "Average Cross Validation score :0.8133333333333332\n",
      "MODEL NAME is  decision tree  MODEL PARAMETER IS  {'criterion': 'gini'}\n",
      "Cross Validation Scores are [0.53333333 0.46666667 0.4        0.6        0.4        0.46666667\n",
      " 0.93333333 0.93333333 0.8        0.86666667]\n",
      "Average Cross Validation score :0.64\n",
      "MODEL NAME is  decision tree  MODEL PARAMETER IS  {'criterion': 'entropy'}\n",
      "Cross Validation Scores are [0.53333333 0.46666667 0.6        0.53333333 0.2        0.33333333\n",
      " 0.93333333 0.86666667 0.8        0.93333333]\n",
      "Average Cross Validation score :0.62\n",
      "MODEL NAME is  support vector machines  MODEL PARAMETER IS  {'C': 0.1}\n",
      "Cross Validation Scores are [0.33333333 0.2        0.2        0.13333333 0.2        0.2\n",
      " 0.         0.         0.         0.        ]\n",
      "Average Cross Validation score :0.12666666666666665\n",
      "MODEL NAME is  support vector machines  MODEL PARAMETER IS  {'C': 1}\n",
      "Cross Validation Scores are [0.73333333 0.73333333 0.73333333 0.53333333 0.66666667 0.66666667\n",
      " 0.86666667 0.8        0.73333333 1.        ]\n",
      "Average Cross Validation score :0.7466666666666667\n",
      "MODEL NAME is  support vector machines  MODEL PARAMETER IS  {'C': 10}\n",
      "Cross Validation Scores are [0.8        0.8        0.73333333 0.8        0.66666667 0.66666667\n",
      " 0.93333333 1.         1.         1.        ]\n",
      "Average Cross Validation score :0.8400000000000001\n",
      "MODEL NAME is  support vector machines  MODEL PARAMETER IS  {'C': 100}\n",
      "Cross Validation Scores are [0.8        0.8        0.73333333 0.8        0.66666667 0.66666667\n",
      " 0.93333333 1.         1.         1.        ]\n",
      "Average Cross Validation score :0.8400000000000001\n"
     ]
    }
   ],
   "source": [
    "log_reg_params = [{\"C\":0.001}, {\"C\":0.01}, {\"C\":1}, {\"C\":10}]\n",
    "dec_tree_params = [{\"criterion\": \"gini\"}, {\"criterion\": \"entropy\"}]\n",
    "rand_for_params = [{\"criterion\": \"gini\"}, {\"criterion\": \"entropy\"}]\n",
    "kneighbors_params = [{\"n_neighbors\":3}, {\"n_neighbors\":5}]\n",
    "svc_params = [{\"C\":0.1}, {\"C\":1}, {\"C\":10}, {\"C\":100}]\n",
    "\n",
    "modelclasses = [\n",
    "    [\"log regression\", LogisticRegression, log_reg_params],   \n",
    "    [\"random forest\", RandomForestClassifier, rand_for_params],\n",
    "    [\"decision tree\", DecisionTreeClassifier, dec_tree_params],\n",
    "    [\"support vector machines\", SVC, svc_params]\n",
    "]\n",
    "insights = []\n",
    "for modelname, Model, params_list in modelclasses:\n",
    "    for params in params_list:\n",
    "        kf=KFold(n_splits=10)\n",
    "\n",
    "        model = Model(**params)\n",
    "\n",
    "        score=cross_val_score(model,X_smote, y_smote,cv=kf)\n",
    "        print(\"MODEL NAME is \",modelname,\" MODEL PARAMETER IS \", params)\n",
    "        print(\"Cross Validation Scores are {}\".format(score))\n",
    "        print(\"Average Cross Validation score :{}\".format(score.mean()))\n",
    "\n",
    "\n"
   ]
  },
  {
   "cell_type": "code",
   "execution_count": 76,
   "metadata": {},
   "outputs": [
    {
     "data": {
      "text/plain": [
       " 3    38\n",
       "-1    35\n",
       " 7    10\n",
       "-5    10\n",
       "Name: ANXIETY, dtype: int64"
      ]
     },
     "execution_count": 76,
     "metadata": {},
     "output_type": "execute_result"
    }
   ],
   "source": [
    "y['ANXIETY'].value_counts()"
   ]
  },
  {
   "cell_type": "code",
   "execution_count": 74,
   "metadata": {},
   "outputs": [
    {
     "data": {
      "text/plain": [
       " 7    38\n",
       " 3    38\n",
       "-5    37\n",
       "-1    37\n",
       "Name: ANXIETY, dtype: int64"
      ]
     },
     "execution_count": 74,
     "metadata": {},
     "output_type": "execute_result"
    }
   ],
   "source": [
    "y_smote['ANXIETY'].value_counts()"
   ]
  },
  {
   "cell_type": "code",
   "execution_count": null,
   "metadata": {},
   "outputs": [],
   "source": []
  },
  {
   "cell_type": "code",
   "execution_count": null,
   "metadata": {},
   "outputs": [],
   "source": []
  },
  {
   "cell_type": "markdown",
   "metadata": {},
   "source": [
    "# UNDERSAMPLING\n"
   ]
  },
  {
   "cell_type": "code",
   "execution_count": 78,
   "metadata": {},
   "outputs": [
    {
     "name": "stdout",
     "output_type": "stream",
     "text": [
      "Counter({'ANXIETY': 1})\n"
     ]
    }
   ],
   "source": [
    "# instantiating the random undersampler\n",
    "rus = RandomUnderSampler() \n",
    "# resampling X, y\n",
    "X_rus, y_rus = rus.fit_resample(X, y)\n",
    "# new class distribution\n",
    "print(Counter(y_rus))"
   ]
  },
  {
   "cell_type": "code",
   "execution_count": 79,
   "metadata": {},
   "outputs": [
    {
     "data": {
      "text/plain": [
       " 7    10\n",
       "-5    10\n",
       " 3    10\n",
       "-1    10\n",
       "Name: ANXIETY, dtype: int64"
      ]
     },
     "execution_count": 79,
     "metadata": {},
     "output_type": "execute_result"
    }
   ],
   "source": [
    "y_rus['ANXIETY'].value_counts()"
   ]
  },
  {
   "cell_type": "code",
   "execution_count": 80,
   "metadata": {},
   "outputs": [
    {
     "name": "stdout",
     "output_type": "stream",
     "text": [
      "('log regression', LogisticRegression(C=0.001), {'C': 0.001}, 0.375, 'F1 Score:->', 0.3088023088023088, 'PRE Score:->', 0.26785714285714285, 'REC Score:->', 0.3958333333333333)\n",
      "('log regression', LogisticRegression(C=0.1), {'C': 0.1}, 0.625, 'F1 Score:->', 0.5928571428571429, 'PRE Score:->', 0.6041666666666666, 'REC Score:->', 0.6083333333333334)\n",
      "('log regression', LogisticRegression(C=1), {'C': 1}, 0.625, 'F1 Score:->', 0.5928571428571429, 'PRE Score:->', 0.6041666666666666, 'REC Score:->', 0.6083333333333334)\n",
      "('log regression', LogisticRegression(C=10), {'C': 10}, 0.625, 'F1 Score:->', 0.5928571428571429, 'PRE Score:->', 0.6041666666666666, 'REC Score:->', 0.6083333333333334)\n",
      "('decision tree', DecisionTreeClassifier(), {'criterion': 'gini'}, 0.5625, 'F1 Score:->', 0.5284090909090909, 'PRE Score:->', 0.5714285714285714, 'REC Score:->', 0.525)\n",
      "('decision tree', DecisionTreeClassifier(criterion='entropy'), {'criterion': 'entropy'}, 0.375, 'F1 Score:->', 0.32900432900432897, 'PRE Score:->', 0.3464285714285714, 'REC Score:->', 0.3625)\n",
      "('random forest', RandomForestClassifier(), {'criterion': 'gini'}, 0.5, 'F1 Score:->', 0.45000000000000007, 'PRE Score:->', 0.45, 'REC Score:->', 0.45)\n",
      "('random forest', RandomForestClassifier(criterion='entropy'), {'criterion': 'entropy'}, 0.5, 'F1 Score:->', 0.46527777777777773, 'PRE Score:->', 0.5, 'REC Score:->', 0.4625)\n",
      "('k neighbors', KNeighborsClassifier(n_neighbors=3), {'n_neighbors': 3}, 0.4375, 'F1 Score:->', 0.3880952380952381, 'PRE Score:->', 0.3833333333333333, 'REC Score:->', 0.4)\n",
      "('k neighbors', KNeighborsClassifier(), {'n_neighbors': 5}, 0.4375, 'F1 Score:->', 0.4161255411255411, 'PRE Score:->', 0.4375, 'REC Score:->', 0.42083333333333334)\n",
      "('naive bayes', GaussianNB(), {}, 0.375, 'F1 Score:->', 0.32142857142857145, 'PRE Score:->', 0.27976190476190477, 'REC Score:->', 0.41666666666666663)\n",
      "('support vector machines', SVC(C=0.1), {'C': 0.1}, 0.1875, 'F1 Score:->', 0.07894736842105263, 'PRE Score:->', 0.046875, 'REC Score:->', 0.25)\n",
      "('support vector machines', SVC(C=1), {'C': 1}, 0.375, 'F1 Score:->', 0.37142857142857144, 'PRE Score:->', 0.5190476190476191, 'REC Score:->', 0.3833333333333333)\n",
      "('support vector machines', SVC(C=10), {'C': 10}, 0.5, 'F1 Score:->', 0.4880952380952381, 'PRE Score:->', 0.5333333333333333, 'REC Score:->', 0.48333333333333334)\n",
      "('support vector machines', SVC(C=100), {'C': 100}, 0.5, 'F1 Score:->', 0.4880952380952381, 'PRE Score:->', 0.5333333333333333, 'REC Score:->', 0.48333333333333334)\n"
     ]
    }
   ],
   "source": [
    "X_train, X_test, y_train, y_test = train_test_split(X_rus, y_rus, test_size=0.4, random_state=42)\n",
    "yobla(X_train, X_test, y_train, y_test)"
   ]
  },
  {
   "cell_type": "code",
   "execution_count": null,
   "metadata": {},
   "outputs": [],
   "source": []
  }
 ],
 "metadata": {
  "kernelspec": {
   "display_name": "Python 3",
   "language": "python",
   "name": "python3"
  },
  "language_info": {
   "codemirror_mode": {
    "name": "ipython",
    "version": 3
   },
   "file_extension": ".py",
   "mimetype": "text/x-python",
   "name": "python",
   "nbconvert_exporter": "python",
   "pygments_lexer": "ipython3",
   "version": "3.8.5"
  }
 },
 "nbformat": 4,
 "nbformat_minor": 4
}
